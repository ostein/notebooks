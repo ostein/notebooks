{
 "metadata": {
  "name": "",
  "signature": "sha256:518767b363a32e1be87eaa842cdf8bb99b56c601c5312e491605a089bc6464ae"
 },
 "nbformat": 3,
 "nbformat_minor": 0,
 "worksheets": [
  {
   "cells": [
    {
     "cell_type": "code",
     "collapsed": false,
     "input": [
      "! git reflog | head -n 1"
     ],
     "language": "python",
     "metadata": {},
     "outputs": [
      {
       "output_type": "stream",
       "stream": "stdout",
       "text": [
        "a081b83 HEAD@{0}: commit: added three composition vs ua bar charts for the different species sets\r\n"
       ]
      }
     ],
     "prompt_number": 116
    },
    {
     "cell_type": "code",
     "collapsed": true,
     "input": [
      "import sys\n",
      "import os\n",
      "\n",
      "def pull(repo):\n",
      "    os.system('cd /tmp && git clone ' + repo)\n",
      "    \n",
      "sys.path.append(\"/tmp\")"
     ],
     "language": "python",
     "metadata": {},
     "outputs": [],
     "prompt_number": 117
    },
    {
     "cell_type": "code",
     "collapsed": false,
     "input": [
      "!rm -rf /tmp/*\n",
      "pull(\"https://github.com/greole/CoalExp.git\")\n",
      "pull(\"https://github.com/greole/IPythonTricks.git\")"
     ],
     "language": "python",
     "metadata": {},
     "outputs": [],
     "prompt_number": 118
    },
    {
     "cell_type": "code",
     "collapsed": false,
     "input": [
      "import CoalExp\n",
      "from IPythonTricks.ToggleCodeButton import ToggleCodeButton, EnableEquationNumbers, DictTable, DictValueTable\n",
      "import pkp\n",
      "import numpy as np\n",
      "%pylab inline"
     ],
     "language": "python",
     "metadata": {},
     "outputs": [
      {
       "output_type": "stream",
       "stream": "stdout",
       "text": [
        "Populating the interactive namespace from numpy and matplotlib\n"
       ]
      },
      {
       "output_type": "stream",
       "stream": "stderr",
       "text": [
        "WARNING: pylab import has clobbered these variables: ['f', 'prod', 'fmin']\n",
        "`%matplotlib` prevents importing * from pylab and numpy\n"
       ]
      }
     ],
     "prompt_number": 119
    },
    {
     "cell_type": "code",
     "collapsed": false,
     "input": [
      "import CoalExp.Various as MJC\n",
      "import CoalExp.Shaddix2009 as Shaddix2009\n",
      "from copy import deepcopy"
     ],
     "language": "python",
     "metadata": {},
     "outputs": [],
     "prompt_number": 120
    },
    {
     "cell_type": "code",
     "collapsed": false,
     "input": [
      "ToggleCodeButton"
     ],
     "language": "python",
     "metadata": {},
     "outputs": [
      {
       "html": [
        "<script>\n",
        "code_show=false;\n",
        "function code_toggle() {\n",
        " if (code_show){\n",
        " $('div.input').hide();\n",
        " } else {\n",
        " $('div.input').show();\n",
        " }\n",
        " code_show = !code_show\n",
        "}\n",
        "$( document ).ready(code_toggle);\n",
        "</script>\n",
        "<form action=\"javascript:code_toggle()\"><input type=\"submit\" value=\"Click here to toggle on/off the raw code.\"></form>"
       ],
       "metadata": {},
       "output_type": "pyout",
       "prompt_number": 121,
       "text": [
        "<IPythonTricks.ToggleCodeButton.NotebookObject instance at 0x7f6c613abdd0>"
       ]
      }
     ],
     "prompt_number": 121
    },
    {
     "cell_type": "code",
     "collapsed": false,
     "input": [
      "EnableEquationNumbers"
     ],
     "language": "python",
     "metadata": {},
     "outputs": [
      {
       "html": [
        " <script type=\"text/Javascript\"> MathJax.Hub.Config({ TeX: { equationNumbers: { autoNumber: \"AMS\", useLabelIds: true } }});\n",
        "</script>"
       ],
       "metadata": {},
       "output_type": "pyout",
       "prompt_number": 122,
       "text": [
        "<IPythonTricks.ToggleCodeButton.NotebookObject instance at 0x7f6c613abe18>"
       ]
      }
     ],
     "prompt_number": 122
    },
    {
     "cell_type": "code",
     "collapsed": false,
     "input": [
      "# Plot Templates\n",
      "def plt_pie(ax, a, title):\n",
      "    ua = zip(*[(label, value) for label, value in a.iteritems()])\n",
      "    ax.pie(ua[1], labels=ua[0], autopct='%.0f%%')\n",
      "    ax.set_title(title)\n",
      "    \n",
      "def plt_bar(f, ax ,a, label_, pattern, offs=0.0):\n",
      "    bar = 0.50\n",
      "    ua = zip(*[(label, value) for label, value in a.iteritems()])\n",
      "    index = np.arange(len(ua[0]))\n",
      "    ax.bar(index+offs, ua[1], bar, label=label_, hatch=pattern, color=\"None\")\n",
      "    ax.set_ylabel('Composition [%]')\n",
      "    plt.xticks(index+bar, ua[0])\n",
      "    plt.legend(loc=\"upper left\")"
     ],
     "language": "python",
     "metadata": {},
     "outputs": [],
     "prompt_number": 123
    },
    {
     "cell_type": "code",
     "collapsed": false,
     "input": [
      "# Particle Temperature Equation and Explicit Time Integration\n",
      "def computeParticleTemperature(props, time, T_gas, T_start=300, dt=1e-5, t_end=0.1):\n",
      "    def updateTg(T_old, T_gas, dt, props):\n",
      "        return T_old + dTdt(T_gas, T_old, props)*dt\n",
      "        #return T_old + dTdt(1500.0, T_old, props)*dt\n",
      "\n",
      "    def dTdt(gas_temp, particle_temp, props):\n",
      "        T4diff = (particle_temp**4.0  - props.T_wall**4.0) * props.sigma * props.epsilon\n",
      "        h = props.Nu*lambda_g(gas_temp)/props.d\n",
      "        Tdiff = (particle_temp - gas_temp)\n",
      "        a = -3.0/(props.Cp*props.rho*props.d/2.0)\n",
      "        return  a * (T4diff + h*Tdiff)\n",
      "    \n",
      "    Temps, Times = [T_start], [0]\n",
      "    for i in range(int(t_end/dt)):\n",
      "        time_ = dt*(i+1) # current time\n",
      "        T = np.interp(time_, time, T_gas) # interpolate temperature\n",
      "        T_start = updateTg(T_start, T, dt, props) # update temperature\n",
      "        Temps.append(T_start)\n",
      "        Times.append(time_)\n",
      "    return Times, Temps\n",
      "\n",
      "def particle_response_time(props):\n",
      "    return (props.Cp*props.rho*props.d**2)/(12.0*lambda_g(1000))\n",
      "\n",
      "def rho(Temp):\n",
      "    \"\"\" p/rho  = R_s*T\"\"\"\n",
      "    return 1.0 /(8.314*Temp)\n",
      "    \n",
      "def lambda_g(Temp):\n",
      "    # http://www.nist.gov/data/PDFfiles/jpcrd283.pdf\n",
      "    gamma = 25.98e-3 # [W/mK] \n",
      "    c1,c2,c3,c4,c5,c6,c7 = [0.2395, 0.0064, 1.0, -1.9261,\n",
      "                            2.0038, -1.0755, 0.2294]\n",
      "    d1,d2,d3,d4,d5 = [0.4022, 0.3566, -0.1631, 0.1380, \n",
      "                      -0.0201]\n",
      "    T = Temp/132.5\n",
      "    r = rho(Temp)/314.3\n",
      "    return (gamma * (c1*T + c2*T**0.5 + c3 \n",
      "                    + c4*T**(-1.0) + c5*T**(-2.0)\n",
      "                    + c6*T**(-3.0) + c7*T**(-4.0)\n",
      "                    + d1*r + d2*r**2.0 + d3*r**3.0\n",
      "                    + d4*r**4.0 + d5*r**4.0))\n",
      "\n",
      "def compute_and_plot(ax, time, temp, props, label, **kwargs):\n",
      "    Times, Temps = computeParticleTemperature(props, time, temp, **kwargs)\n",
      "    ax.plot(Times, Temps, label=label)\n",
      "    ax.get_xaxis().get_label().set_text('Time [s]')\n",
      "    ax.get_yaxis().get_label().set_text('Temperature [K]')\n",
      "    if kwargs.get('t_end'):\n",
      "        ax.get_axes().set_xlim(0, kwargs.get('t_end'))\n",
      "    ax.legend(loc='lower right')\n",
      "    \n",
      "def compute_and_plot_property_range(ax, time, temp, props, property, property_range, label_template, **kwargs):\n",
      "    for er in property_range:\n",
      "        new_props = props.set(property, er)\n",
      "        label = label_template.format(er)\n",
      "        compute_and_plot(ax, time, temp, new_props, label, **kwargs)\n",
      "    \n",
      "def plot_cpd(cpd):\n",
      "    f, ax = plt.subplots(3,1, sharex=True)\n",
      "    f.set_figwidth(15)\n",
      "    f.set_figheight(7.5)\n",
      "    f.subplots_adjust(hspace=0)\n",
      "    cpd_data = cpd['run0']\n",
      "    yields = [(species_name, data) for species_name, data in cpd_data.iterspecies()]\n",
      "    rates = [cpd_data.rate(species_name) for species_name, _ in cpd_data.iterspecies()]\n",
      "    times = cpd['run0']['time']\n",
      "    leg = []\n",
      "    legp = []\n",
      "    for name, data in yields:\n",
      "        ap, = ax[0].plot(times, data, label=name)\n",
      "        ax[0].set_title = \"Species Massfractions\"\n",
      "        ax[0].get_yaxis().get_label().set_text('Massfraction [kg/kg_coal]')\n",
      "        leg.append(name)\n",
      "        legp.append(ap)\n",
      "    for data in rates:\n",
      "        ax[1].plot(times, data, label=name)\n",
      "        ax[1].get_yaxis().get_label().set_text('Release Rate [kg/(kg_coal*s)]')\n",
      "    plt.legend(legp, leg, loc='center left', bbox_to_anchor=(1.01, 2.0))\n",
      "    ax[2].plot(times, cpd['run0']['temp'], label=\"foo\")\n",
      "    ax[2].get_yaxis().get_label().set_text('Temperature [K]')\n",
      "    ax[2].get_xaxis().get_label().set_text('Time [s]')\n",
      "    \n",
      "def plot_cpd_rates(cpd):\n",
      "    f, ax = plt.subplots(1,1, sharex=True)\n",
      "    f.set_figwidth(15)\n",
      "    f.set_figheight(7.5)\n",
      "    f.subplots_adjust(hspace=0)\n",
      "    cpd_data = cpd['run0']\n",
      "    rates = [(species_name,cpd_data.rate(species_name)) for species_name, _ in cpd_data.iterspecies() if species_name in ('ftar','fgas')]\n",
      "    times = cpd['run0']['time']\n",
      "    for name, data in rates:\n",
      "        ap, = ax.plot(times, data, label=name)\n",
      "        ax.set_title = \"Species Massfractions\"\n",
      "        ax.get_yaxis().get_label().set_text('Massfraction [kg/kg_coal]')"
     ],
     "language": "python",
     "metadata": {},
     "outputs": [],
     "prompt_number": 124
    },
    {
     "cell_type": "markdown",
     "metadata": {},
     "source": [
      "# Pyrolysis Kinetics Calculation of Black Thunder Coal\n",
      "\n",
      "## 1. Introduction\n",
      "\n",
      "The present document describes how input data for CFD simulations of pulverised coal combustion of black thunder coal can be generated employing [PKP]() and [CPD](). At first the temperature profile for a single coal particle is estimated based on the (measured) gas temperature by integrating the particle temperature balance, or by alternative means of obtaining the particle temperature i.e. auxiliary CFD simulations. The temperature profile serves as an input for the CPD preprocessor. The CPD preprocessor computes the evolution of individual volatile species and the total yield over time. The final volatile yield is split up to prescribed species (for example ** CH4, C2H2, CO2, N2 ** or others) and the enthalpy of devolatilisation is computed to conserve the energy balance."
     ]
    },
    {
     "cell_type": "markdown",
     "metadata": {},
     "source": [
      "<!--  ## 2.Uncertainties-->\n",
      "\n",
      "<!-- The following values are taken as estimates and should be updated or confirmed. -->\n",
      "\n",
      "<!--  * **Temperature profile:** So far the computations are based on the temperature profiles given in [Liu et al. (2011)](dx.doi.org/10.1016/j.ijggc.2011.05.028) Fig. 1 **Please tell me if there is a more appropriate  profile**, **TODO: update with  Shaddix 2009 Fig.1 **-->\n",
      "<!-- * **HHV, cp, density of the black thunder coal:** In [Liu et al. (2011)](dx.doi.org/10.1016/j.ijggc.2011.05.028) no values for the forementioned quantities are given and are estimated based on the mentioned sources.-->\n",
      "\n",
      "<!-- * **Emissivity of coal and furnace wall temperature:** Particle heat up is strongly influenced by these two parameters and should be set with great care. Currently the wall temperature is set to $1200K$-->"
     ]
    },
    {
     "cell_type": "markdown",
     "metadata": {},
     "source": [
      "## 2. Definition of the Coal Properties\n",
      "\n",
      "The coal properties are defined according to [Liu et al. (2011)](http://www.sciencedirect.com/science/article/pii/S1750583611000880) table 1, Black Thunder coal. In the absence of a given HHV the HHV (as received) is approximated to be 20.27 [MJ/kg] from [Sarv et al.](http://www.babcock.com/library/Documents/BR-1825.pdf). The coal composition given in Sarv et al. differs strongly from Liu et al., but is similar to the vendor's [data](http://www.archcoal.com/customers/ACI_product_guide_2013.pdf). According to C. Shaddix [Personal Communication] the coal used in the experiments has undergone considerable drying and the proximate and ultimate analyses of Liu et al. should be used."
     ]
    },
    {
     "cell_type": "code",
     "collapsed": false,
     "input": [
      "ultimate_analysis = {\"Carbon\": 64.1, \"Hydrogen\": 5.5, \"Nitrogen\": 0.9, \"Oxygen\": 29.1, \"Sulphur\": 0.5} # DAF\n",
      "proximate_analysis = {\"Fixed Carbon\": 43.8, \"Moisture\": 10.8, \"Volatile Matter\": 40.4,  \"Ash\": 5.0} # As recieved"
     ],
     "language": "python",
     "metadata": {},
     "outputs": [],
     "prompt_number": 125
    },
    {
     "cell_type": "markdown",
     "metadata": {},
     "source": [
      "The table below displays the ultimate analysis (daf)"
     ]
    },
    {
     "cell_type": "code",
     "collapsed": false,
     "input": [
      "DictTable(ultimate_analysis)"
     ],
     "language": "python",
     "metadata": {},
     "outputs": [
      {
       "html": [
        "<table ><tr><td>Carbon</td><td>64.1</td></tr><tr><td>Sulphur</td><td>0.5</td></tr><tr><td>Hydrogen</td><td>5.5</td></tr><tr><td>Nitrogen</td><td>0.9</td></tr><tr><td>Oxygen</td><td>29.1</td></tr></table>"
       ],
       "metadata": {},
       "output_type": "pyout",
       "prompt_number": 126,
       "text": [
        "{'Carbon': 64.1,\n",
        " 'Hydrogen': 5.5,\n",
        " 'Nitrogen': 0.9,\n",
        " 'Oxygen': 29.1,\n",
        " 'Sulphur': 0.5}"
       ]
      }
     ],
     "prompt_number": 126
    },
    {
     "cell_type": "markdown",
     "metadata": {},
     "source": [
      "The table below displays the proximate analysis (as received, at Sandia)"
     ]
    },
    {
     "cell_type": "code",
     "collapsed": false,
     "input": [
      "DictTable(proximate_analysis)"
     ],
     "language": "python",
     "metadata": {},
     "outputs": [
      {
       "html": [
        "<table ><tr><td>Fixed Carbon</td><td>43.8</td></tr><tr><td>Ash</td><td>5.0</td></tr><tr><td>Volatile Matter</td><td>40.4</td></tr><tr><td>Moisture</td><td>10.8</td></tr></table>"
       ],
       "metadata": {},
       "output_type": "pyout",
       "prompt_number": 127,
       "text": [
        "{'Ash': 5.0, 'Fixed Carbon': 43.8, 'Moisture': 10.8, 'Volatile Matter': 40.4}"
       ]
      }
     ],
     "prompt_number": 127
    },
    {
     "cell_type": "markdown",
     "metadata": {},
     "source": [
      "The following Figure displays the composition of the Black Thunder coal based on the dry ash free (daf) proximate analysis (left) and the elemental composition based on the ultimate analysis (right).\n",
      "<!--Additionally we can estimate the elemental composition of the volatile matter (right) by subtracting the fixed carbon from ultimate analysis. However this is only a rough estimate and the final composition is computed based on the CPD results.-->"
     ]
    },
    {
     "cell_type": "code",
     "collapsed": false,
     "input": [
      "cpd_params = {'fit': 'constantRate', 'active': 'True', 'deltaT': '0.5e-05', 'MW_TAR': '130'}\n",
      "input_dict = {'Coal': {\n",
      "        'Proximate Analysis': proximate_analysis, 'Ultimate Analysis': ultimate_analysis, 'hhv': 20270, 'MW_PS': 100},\n",
      "    'CPD': cpd_params, 'OperatingConditions': {}}"
     ],
     "language": "python",
     "metadata": {},
     "outputs": [],
     "prompt_number": 128
    },
    {
     "cell_type": "code",
     "collapsed": false,
     "input": [
      "from pkp.src.CoalThermoPhysics import PostulateSubstance, Coal\n",
      "coal = Coal(input_dict['Coal'])"
     ],
     "language": "python",
     "metadata": {},
     "outputs": [],
     "prompt_number": 129
    },
    {
     "cell_type": "code",
     "collapsed": false,
     "input": [
      "f, ax = plt.subplots(1,2)\n",
      "f.set_figwidth(10)\n",
      "f.set_figheight(5.5)\n",
      "plt_pie(ax[0], coal.pa_daf, \"Prox. Ana. DAF\")\n",
      "plt_pie(ax[1], coal.ua, \"Ultimate Ana. DAF\")\n",
      "#plt_pie(ax[2], coal.ua_vm, \"Vol. Matter q=1.0\")\n",
      "plt.suptitle(\"Elemental Compostion Black Thunder Coal\")"
     ],
     "language": "python",
     "metadata": {},
     "outputs": [
      {
       "metadata": {},
       "output_type": "pyout",
       "prompt_number": 130,
       "text": [
        "<matplotlib.text.Text at 0x7f6c5f4e3b10>"
       ]
      },
      {
       "metadata": {},
       "output_type": "display_data",
       "png": "[encoded data removed]",
       "text": [
        "<matplotlib.figure.Figure at 0x7f6c5f198050>"
       ]
      }
     ],
     "prompt_number": 130
    },
    {
     "cell_type": "markdown",
     "metadata": {},
     "source": [
      "## 3. Particle Temperature Approximation\n",
      "\n",
      "To set the operating conditions for the CPD pre-processor we need the temperature profile of the coal particle. The particle temperature is calculated by solving the particle temperature equation \n",
      "\n",
      "\\begin{align}\n",
      "\\frac{dT_p}{dt}=\\frac{-3}{C_p\\rho_pr_p}\\left[\\epsilon\\sigma\n",
      "(T^4_p-T^4_w) + h(T_p-T_g)\\right]\n",
      "\\label{ParticleTempEqn}\n",
      "\\end{align}\n",
      "\n",
      "where subscripts p, g and w denote particle, gas phase and wall properties respectivly. The coal density $\\rho_p$ is assumed to be $ 1300~ \\left[kg/m^3\\right]$ (**confirm!**) based on this [data](http://www.ogj.com/articles/print/volume-97/issue-17/in-this-issue/general-interest/study-quantifies-powder-river-coal-seam-properties.html). The heat capacity is set to $1.2~ \\left[kJ/kgK\\right]$ The heat transfer coefficient $h=Nu\\lambda_g/d_p$ depends on the gas phase heat conductivity $\\lambda_g$, where $Nu=2$. The thermal conductivity of gaseous phase is calculated based on  [Kadoya et. al](http://www.nist.gov/data/PDFfiles/jpcrd283.pdf), this however doesnt reflect any changes in composition of the gaseous phase."
     ]
    },
    {
     "cell_type": "markdown",
     "metadata": {},
     "source": [
      "The table below shows the values of the parameters which are necessary to solve the particle temperature equation ** These parameters will be updated with new data of C. Shaddix **"
     ]
    },
    {
     "cell_type": "code",
     "collapsed": false,
     "input": [
      "# PLEASE DOUBLE CHECK\n",
      "props = DictValueTable({\n",
      "    'Cp': {'val': 1100.0 , 'label': 'Cp [J/kgK]'},\n",
      "    #lambda_g': {'val': 8.831e-02, 'label':  'Thermal conductivity [W/mK]'},\n",
      "    'rho': {'val': 1300.0, 'label': 'Density [kg/m3]'},\n",
      "    'T_wall': {'val': 673.0, 'label': 'Wall Temperature [K]'},\n",
      "    'd': {'val': 100e-6, 'label': 'Particle Diameter [m]'},\n",
      "    'Nu': {'val': 2.0, 'label': 'Nusselt number [-]'}, \n",
      "    'sigma': {'val': 5.6e-8, 'label': 'Sefan-Boltzmann constant [W/(m^2K^4)]'},\n",
      "    'epsilon': {'val': 0.0, 'label': 'Emissivty [-]'}})"
     ],
     "language": "python",
     "metadata": {},
     "outputs": [],
     "prompt_number": 131
    },
    {
     "cell_type": "code",
     "collapsed": false,
     "input": [
      "props"
     ],
     "language": "python",
     "metadata": {},
     "outputs": [
      {
       "html": [
        "<table ><tr><td>Particle Diameter [m]</td><td>0.0001</td></tr><tr><td>Density [kg/m3]</td><td>1.3e+03</td></tr><tr><td>Emissivty [-]</td><td>0.0</td></tr><tr><td>Cp [J/kgK]</td><td>1.1e+03</td></tr><tr><td>Sefan-Boltzmann constant [W/(m^2K^4)]</td><td>5.6e-08</td></tr><tr><td>Wall Temperature [K]</td><td>673.0</td></tr><tr><td>Nusselt number [-]</td><td>2.0</td></tr></table>"
       ],
       "metadata": {},
       "output_type": "pyout",
       "prompt_number": 132,
       "text": [
        "{'Cp': {'label': 'Cp [J/kgK]', 'val': 1100.0},\n",
        " 'Nu': {'label': 'Nusselt number [-]', 'val': 2.0},\n",
        " 'T_wall': {'label': 'Wall Temperature [K]', 'val': 673.0},\n",
        " 'd': {'label': 'Particle Diameter [m]', 'val': 0.0001},\n",
        " 'epsilon': {'label': 'Emissivty [-]', 'val': 0.0},\n",
        " 'rho': {'label': 'Density [kg/m3]', 'val': 1300.0},\n",
        " 'sigma': {'label': 'Sefan-Boltzmann constant [W/(m^2K^4)]', 'val': 5.6e-08}}"
       ]
      }
     ],
     "prompt_number": 132
    },
    {
     "cell_type": "markdown",
     "metadata": {},
     "source": [
      "The following Fig. shows the particle temperature curve (red) in comparisson to the gas-phase temperature from Shaddix 2009 (green) and CFD particle temperatures (blue)."
     ]
    },
    {
     "cell_type": "code",
     "collapsed": false,
     "input": [
      "f, ax = plt.subplots(1,1)\n",
      "f.set_figwidth(7.5)\n",
      "ax.plot(MJC.time_MJC, MJC.T_MJC, label='MJC')\n",
      "ax.plot(Shaddix2009.time, Shaddix2009.T_high, label='Shaddix2009 Gas Temp')\n",
      "particle_time = [_/1000.0 for _ in Shaddix2009.t_particle_time]\n",
      "ax.plot(particle_time, Shaddix2009.T_particle_N2, label='Shaddix Particle Temp')\n",
      "compute_and_plot(ax, Shaddix2009.time, Shaddix2009.T_high, props, \"Particle\", t_end=0.04)"
     ],
     "language": "python",
     "metadata": {},
     "outputs": [
      {
       "metadata": {},
       "output_type": "display_data",
       "png": "[encoded data removed]",
       "text": [
        "<matplotlib.figure.Figure at 0x7f6c56f6c410>"
       ]
      }
     ],
     "prompt_number": 133
    },
    {
     "cell_type": "markdown",
     "metadata": {},
     "source": [
      "#### Sensitivity Study Particle Heat up\n",
      "The particle temperature profile is strongly affected by radiation, but the emissivity and furnace wall temperature are unknown. Furthermore the mass of the individual coal particles is variable with in a certain range. The sensitivity of the particle temperature profile shall be investigated exemplarily by varying the emissivity and the particle diameter.\n",
      "\n",
      "The figure on the left shows the particle temperature in comparison to the gas phase temperature (blue) with different emissivities. \n",
      "\n",
      "<!--It can be seen that for larger $\\epsilon$ the heating increases dramatically. Additionally with increasing $\\epsilon$  the wall temperature strongly affects the temperature profile. Since it affects the initial heat up and defines an upper bound for the particle temperature. -->\n",
      "\n",
      "The figure on the right shows that the particle heating for increasingly larger particles shifts the particles away from thermal equilibrium."
     ]
    },
    {
     "cell_type": "code",
     "collapsed": false,
     "input": [
      "f, ax = plt.subplots(1,2)\n",
      "f.set_figwidth(15)\n",
      "ax[0].plot(Shaddix2009.time, Shaddix2009.T_high, label='Shaddix2009 Gas Temp')\n",
      "ax[1].plot(Shaddix2009.time, Shaddix2009.T_high, label='Shaddix2009 Gas Temp')\n",
      "compute_and_plot_property_range(ax[0], Shaddix2009.time, Shaddix2009.T_high, props, 'epsilon', [0, 0.5, 1.0], \"epsilon={}\", t_end=0.04)\n",
      "compute_and_plot_property_range(ax[1], Shaddix2009.time, Shaddix2009.T_high, props, 'd', [50e-6, 75e-6, 100e-6, 150e-6], \"d={}\", t_end=0.04)"
     ],
     "language": "python",
     "metadata": {},
     "outputs": [
      {
       "metadata": {},
       "output_type": "display_data",
       "png": "[encoded data removed]",
       "text": [
        "<matplotlib.figure.Figure at 0x7f6c5f0fa290>"
       ]
      }
     ],
     "prompt_number": 134
    },
    {
     "cell_type": "code",
     "collapsed": false,
     "input": [
      "Times, Temps = computeParticleTemperature(props, Shaddix2009.time, Shaddix2009.T_high, t_end=0.04)\n",
      "input_dict['OperatingConditions'] = {'run0': zip(Times, Temps)[0:-1:100], 'pressure': 1.0, 'runs': 1}"
     ],
     "language": "python",
     "metadata": {},
     "outputs": [],
     "prompt_number": 135
    },
    {
     "cell_type": "markdown",
     "metadata": {},
     "source": [
      "# 4. Execution of the CPD Preprocessor\n",
      "Based on the ultimate and proximate analysis and the [NMR PARAMETER CALCULATOR](http://www.et.byu.edu/~tom/cpd/correlation.html)  the CPD preprocessor is started. "
     ]
    },
    {
     "cell_type": "code",
     "collapsed": false,
     "input": [
      "cpd = pkp.generate(json_string=input_dict)"
     ],
     "language": "python",
     "metadata": {},
     "outputs": [],
     "prompt_number": 136
    },
    {
     "cell_type": "markdown",
     "metadata": {},
     "source": [
      "The figure below shows the mass fractions of the released volatile matter (upper), the corresponding release rates (middle) over and the particle temperature (lower) over time. Here the mass fraction is defined as $f_i=m_i/m_{daf}$"
     ]
    },
    {
     "cell_type": "code",
     "collapsed": false,
     "input": [
      "cpd['run0'].timesteps = 25\n",
      "plot_cpd(cpd)"
     ],
     "language": "python",
     "metadata": {},
     "outputs": [
      {
       "metadata": {},
       "output_type": "display_data",
       "png": "[encoded data removed]",
       "text": [
        "<matplotlib.figure.Figure at 0x7f6c601e1350>"
       ]
      }
     ],
     "prompt_number": 137
    },
    {
     "cell_type": "markdown",
     "metadata": {},
     "source": [
      "At this point we have the released massfraction for the light gases (CO, CO2, CH4, H2O). Combined with *fother* they add up to *fgas*. Hence *fother* is an unspecified light gas.  Adding *fgas* and *ftar* results in *ftot*. We can also compute the qFactor from the CPD results as:"
     ]
    },
    {
     "cell_type": "code",
     "collapsed": false,
     "input": [
      "print \"Qfactor: \", cpd['run0'].qFactor"
     ],
     "language": "python",
     "metadata": {},
     "outputs": [
      {
       "output_type": "stream",
       "stream": "stdout",
       "text": [
        "Qfactor:  1.26216633663\n"
       ]
      }
     ],
     "prompt_number": 138
    },
    {
     "cell_type": "code",
     "collapsed": false,
     "input": [
      "#Times_MJC, Temps_MJC = MJC.time_MJC, MJC.T_MJC\n",
      "#input_dict['OperatingConditions'] = {'run0': zip(Times_MJC, Temps_MJC)[0:-1:10], 'pressure': 1.0, 'runs': 1}\n",
      "#cpd_MJC = pkp.generate(json_string=input_dict)"
     ],
     "language": "python",
     "metadata": {},
     "outputs": [],
     "prompt_number": 139
    },
    {
     "cell_type": "code",
     "collapsed": false,
     "input": [
      "#print \"Qfactor: \", cpd_MJC['run0'][1].qFactor\n",
      "#cpd_MJC['run0'][1].timesteps = 20\n",
      "#plot_cpd(cpd_MJC)"
     ],
     "language": "python",
     "metadata": {},
     "outputs": [],
     "prompt_number": 140
    },
    {
     "cell_type": "markdown",
     "metadata": {},
     "source": [
      "# 5. Selection of the Volatile Species\n",
      "\n",
      "Even though CPD predicts the release for a number of species, typically the CPD results are mapped to a different set of volatile species for a CFD simulation, where common choices are the postulate substance approach or a mixture of prescribed species. \n",
      "\n",
      "The postulate substance approach reduces the number of additional volatile species to a single species. As consequence the computational costs are comparatively small. A drawback of  using a single postulate substance is that no detailed chemistry mechanism can be used. \n",
      "\n",
      "The second approach is to map either the full volatile yield from the CPD result to a set of prescribed species (i.e. CH4, CO2, C2H2, etc.) or to map only the yield of *TAR* and *OTHER*. Independently from the chosen approach the mapped volatile yield should have the same elementary composition as the CPD result and should additionally be conservative in the heat release. \n",
      "\n",
      "Equation \\ref{completefit} shows the mass balance for the prescribed species f_{species}' \n",
      " \n",
      "\\begin{align}\n",
      "f_{tot} = \\sum_{species} f_{species}'\n",
      "\\label{completefit}\n",
      "\\end{align}\n",
      "\n",
      "or if only the unknown species *TAR* and *OTHER* are to be mapped Eq. \\ref{partialfit} can be used\n",
      "\n",
      "\\begin{align}\n",
      "f_{tar} + f_{other} = \\sum_{species} f_{species}'\n",
      "\\label{partialfit}\n",
      "\\end{align}"
     ]
    },
    {
     "cell_type": "markdown",
     "metadata": {},
     "source": [
      "To compute the massfractions of the prescribed species $f_{species}'$ we demand that the elementary composition given by the CPD result is conserved.\n",
      "\n",
      "\\begin{align}\n",
      "\\sum_i f_{i} = \\sum_i \\sum_{species} f_{species}' \\nu MW_i/MW_{species}\n",
      "\\label{CompositionalBalanceEquation}\n",
      "\\end{align}\n",
      "\n",
      "where $i$ is the index of the individual elements, namely carbon, oxygen, hydrogen and nitrogen obtained from the preprocessor result and $\\nu$ the number of atoms of that specific species in the molecule. \n",
      "The set of algebraic equations in Eqn. \\ref{CompositionalBalanceEquation} is not guaranteed to be solveable and poses a typical optimisation problem."
     ]
    },
    {
     "cell_type": "markdown",
     "metadata": {},
     "source": [
      "### Definition of the Error Function for the Optimisation Procedure\n",
      "\n",
      "To solve the optimisation problem from Eqn. \\ref{CompositionalBalanceEquation} we need to quantify the remaining error for a chosen solution. \n",
      "\n",
      "\\begin{align}\n",
      " \\epsilon = \\sum_i \\left|\\left(f_i - f'_{i} \\right)  / f_i\\right|\n",
      "\\end{align}\n",
      "\n",
      "where $\\epsilon$ is the error, $f_i$ the target mass fraction of the element $i$ obtained by the CPD preprocessor and $f'_i$ \n",
      "\n",
      "\\begin{align} \n",
      "f_i' = \\sum_{species} f'_{species}\\nu MW_i/MW_{species}\n",
      "\\end{align}"
     ]
    },
    {
     "cell_type": "markdown",
     "metadata": {},
     "source": [
      "### Optimisation Results\n",
      "\n",
      "For the solution of the optimisation problem Sequential Least Squares Programming ([SLSQP](http://www.pyopt.org/reference/optimizers.slsqp.html)) has been chosen. As a first step we fit the complete volatile yield according to Eq. \\ref{complete_fit} to CO, CO2, H2O, CH4 and N2. **The set of species are arbitrarily chosen to be equal to the CPD output of existing species, but could be adapted**. And obtain the following massfractions"
     ]
    },
    {
     "cell_type": "code",
     "collapsed": false,
     "input": [
      "from pkp.src.CoalThermoPhysics import CO, OH, N2, H2, CO2, H2O, CH4, O2, C2H2, C2, Yield\n",
      "from scipy.optimize import brute, minimize, fmin, basinhopping\n",
      "\n",
      "def generate_fitted_yield(spec):\n",
      "    pyrol_yield = Yield(cpd['run0'], spec)\n",
      "    cons = ({'type': 'eq', 'fun': lambda x:  1 - sum(x)})\n",
      "    init = [0.0] * len(spec)\n",
      "    optimizer = lambda: minimize(pyrol_yield.error_func, init, tol=0.001, bounds=[(0, 1.0) for _ in init], constraints=cons).x\n",
      "    return pyrol_yield.fit_composition(optimizer), pyrol_yield\n",
      "\n",
      "\n",
      "species = [CO2, CH4, N2, C2H2, H2O]\n",
      "species2 = [CO, CO2, H2O, CH4, N2, C2H2]\n",
      "species3 = [CO2, CH4, N2, C2H2, CO]\n",
      "\n",
      "fitted_yield, pyrol_yield = generate_fitted_yield(species)\n",
      "fitted_yield2, pyrol_yield2 = generate_fitted_yield(species2)\n",
      "fitted_yield3, pyrol_yield3 = generate_fitted_yield(species3)"
     ],
     "language": "python",
     "metadata": {},
     "outputs": [],
     "prompt_number": 141
    },
    {
     "cell_type": "code",
     "collapsed": false,
     "input": [
      "DictTable(fitted_yield)"
     ],
     "language": "python",
     "metadata": {},
     "outputs": [
      {
       "html": [
        "<table ><tr><td>N2</td><td>0.01672</td></tr><tr><td>CO2</td><td>0.2967</td></tr><tr><td>CH4</td><td>0.2088</td></tr><tr><td>C2H2</td><td>0.1116</td></tr><tr><td>H2O</td><td>0.3662</td></tr></table>"
       ],
       "metadata": {},
       "output_type": "pyout",
       "prompt_number": 142,
       "text": [
        "{'C2H2': 0.11158576225604269,\n",
        " 'CH4': 0.20875790399798319,\n",
        " 'CO2': 0.29668866234809094,\n",
        " 'H2O': 0.36624473233374155,\n",
        " 'N2': 0.016722939064141778}"
       ]
      }
     ],
     "prompt_number": 142
    },
    {
     "cell_type": "code",
     "collapsed": false,
     "input": [
      "DictTable(fitted_yield2)"
     ],
     "language": "python",
     "metadata": {},
     "outputs": [
      {
       "html": [
        "<table ><tr><td>H2O</td><td>0.5224</td></tr><tr><td>CO2</td><td>0.07053</td></tr><tr><td>CO</td><td>0.04449</td></tr><tr><td>CH4</td><td>0.09765</td></tr><tr><td>N2</td><td>0.01679</td></tr><tr><td>C2H2</td><td>0.2481</td></tr></table>"
       ],
       "metadata": {},
       "output_type": "pyout",
       "prompt_number": 143,
       "text": [
        "{'C2H2': 0.24810246075514134,\n",
        " 'CH4': 0.097646523410815436,\n",
        " 'CO': 0.044489615214104758,\n",
        " 'CO2': 0.070531754079939515,\n",
        " 'H2O': 0.52244319754728952,\n",
        " 'N2': 0.016786448992709573}"
       ]
      }
     ],
     "prompt_number": 143
    },
    {
     "cell_type": "code",
     "collapsed": false,
     "input": [
      "DictTable(fitted_yield3)"
     ],
     "language": "python",
     "metadata": {},
     "outputs": [
      {
       "html": [
        "<table ><tr><td>CH4</td><td>0.2415</td></tr><tr><td>N2</td><td>0.0167</td></tr><tr><td>CO2</td><td>0.7418</td></tr><tr><td>CO</td><td>-4.864e-16</td></tr><tr><td>C2H2</td><td>-1.49e-15</td></tr></table>"
       ],
       "metadata": {},
       "output_type": "pyout",
       "prompt_number": 144,
       "text": [
        "{'C2H2': -1.4901873305958566e-15,\n",
        " 'CH4': 0.24154038528879246,\n",
        " 'CO': -4.8641717030212972e-16,\n",
        " 'CO2': 0.74175834921321204,\n",
        " 'N2': 0.016701265497997463}"
       ]
      }
     ],
     "prompt_number": 144
    },
    {
     "cell_type": "markdown",
     "metadata": {},
     "source": [
      "For validation purpose the optimised compostion is compared to the target composition from the CPD results. As shown in the figure below the optimised composition matches the target composition reasonably well."
     ]
    },
    {
     "cell_type": "code",
     "collapsed": false,
     "input": [
      "from pkp.src.CoalThermoPhysics import composition\n",
      "fit = composition(fitted_yield, scale=100.0)\n",
      "f, ax = subplots()\n",
      "\n",
      "plt_bar(f,ax, Yield(cpd['run0'], species).VolatileCompositionMass, \"CPD\", 'x' )\n",
      "plt_bar(f,ax, fit, \"OPT\", '/' , 0.5)"
     ],
     "language": "python",
     "metadata": {},
     "outputs": [
      {
       "metadata": {},
       "output_type": "display_data",
       "png": "[encoded data removed]",
       "text": [
        "<matplotlib.figure.Figure at 0x7f6c5f493110>"
       ]
      }
     ],
     "prompt_number": 145
    },
    {
     "cell_type": "code",
     "collapsed": false,
     "input": [
      "#DictTable(pyrol_yield.ProductCompositionMass(partialOx=False))"
     ],
     "language": "python",
     "metadata": {},
     "outputs": [],
     "prompt_number": 146
    },
    {
     "cell_type": "code",
     "collapsed": false,
     "input": [
      "#f, ax = subplots()\n",
      "#fit  = composition(pyrol_yield.ProductCompositionMass(partialOx=False))\n",
      "#print fit\n",
      "#print pyrol_yield.rOx\n",
      "#print pyrol_yield.FOx\n",
      "#plt_bar(f,ax, Yield(cpd['run0'][1], species).VolatileCompositionMass, \"CPD-YIELD\", 'x' )\n",
      "#plt_bar(f,ax, fit, \"MODEL-PROD\", '/' , 0.5)"
     ],
     "language": "python",
     "metadata": {},
     "outputs": [],
     "prompt_number": 147
    },
    {
     "cell_type": "markdown",
     "metadata": {},
     "source": [
      "# 6. Release Rate Fit"
     ]
    },
    {
     "cell_type": "markdown",
     "metadata": {},
     "source": [
      "** Please ignore the following output of the optimisation procedure** "
     ]
    },
    {
     "cell_type": "code",
     "collapsed": false,
     "input": [
      "from pkp.src.Models import constantRate, arrheniusRate\n",
      "\n",
      "inp = {'constantRate': {\n",
      "            'k': 1.0, 'tstart':0.0, 'finalYield':1.0,\n",
      "            'tstartBounds': (0.0, 0.0), 'finalYieldBounds': (None, cpd['run0']['ftot'][-1])},\n",
      "       'arrheniusRate': {\n",
      "            'preExp': 0.0, 'preExpBounds': [0.0, 2000.0],\n",
      "            'beta':0.0, 'activationEnergy': 0,\n",
      "            'betaBounds':(0.0, 0.0), 'lowerDevolTemp': 800.0,\n",
      "            'activationEnergyBounds':[-2000.0, 2000.0]\n",
      "            }\n",
      "       }\n",
      "#constRate = constantRate(inp, [cpd.values()[0]], 'ftot')\n",
      "arrhRate = arrheniusRate(inp, {'run0':cpd.values()[0]}, 'ftot')"
     ],
     "language": "python",
     "metadata": {},
     "outputs": [
      {
       "output_type": "stream",
       "stream": "stdout",
       "text": [
        "Initialised ArrheniusRate Model\n"
       ]
      }
     ],
     "prompt_number": 148
    },
    {
     "cell_type": "code",
     "collapsed": false,
     "input": [
      "x = arrhRate.fit()\n",
      "yieldArrRate = arrhRate.fittedYield()#\n",
      "#yieldConstRate = constRate.fittedYield()"
     ],
     "language": "python",
     "metadata": {},
     "outputs": [
      {
       "output_type": "stream",
       "stream": "stdout",
       "text": [
        "preliminary optimisation: ftot\n",
        "[[0.0, 2000.0], [-2000.0, 2000.0]]\n",
        "final optimisation: ftot"
       ]
      },
      {
       "output_type": "stream",
       "stream": "stdout",
       "text": [
        "\n",
        "('WARNING final optimisation failed\\nStatus: ', 2, 'using preliminary optimisation results')"
       ]
      },
      {
       "output_type": "stream",
       "stream": "stdout",
       "text": [
        "\n",
        "('self.parameterBounds', [[0.0, 2000.0], [-2000.0, 2000.0]], array([ 1684.21052632,  2000.        ]))\n"
       ]
      }
     ],
     "prompt_number": 149
    },
    {
     "cell_type": "code",
     "collapsed": false,
     "input": [
      "print x.parameter\n",
      "#x = x.x"
     ],
     "language": "python",
     "metadata": {},
     "outputs": [
      {
       "output_type": "stream",
       "stream": "stdout",
       "text": [
        "[ 1684.21052632  2000.        ]\n"
       ]
      }
     ],
     "prompt_number": 150
    },
    {
     "cell_type": "markdown",
     "metadata": {},
     "source": [
      "For the usage of the CPD data within CFD simulations the release rate of the yield has to be parameterised for the devolatilisation model of choice. Here the focus is on the Arrhenius rate devolatilisation model, where the change in yield is described as \n",
      "\n",
      "\\begin{align}\n",
      "\\frac{dm}{dt} = A T^{\\beta} exp\\left(-T_a/T\\right)(m^0-m)\n",
      "\\label{Arrhenius}\n",
      "\\end{align}\n",
      "\n",
      "where the pre-exponentional factor $A$ and the activation Temperature $T_a$ are unknown. Usually $\\beta$ is set to zero. Equivalently to the problem of finding a yield composition that conserves the elemental composition finding the unknown parameters of Eqn. \\ref{Arrhenius} poses an optimsation problem. The result of the optimisation procedure is shown in the table below."
     ]
    },
    {
     "cell_type": "code",
     "collapsed": false,
     "input": [
      "d = { 'A': {'val':x.parameter[0], 'label': 'A [-]' }, \n",
      "      'Ta': {'val': x.parameter[1], 'label': 'Ta [K]'},\n",
      "      'Tmin': {'val': inp['arrheniusRate']['lowerDevolTemp'], 'label': 'Minimum Devol. Temp.'}}\n",
      "DictValueTable(d)"
     ],
     "language": "python",
     "metadata": {},
     "outputs": [
      {
       "html": [
        "<table ><tr><td>A [-]</td><td>1.684e+03</td></tr><tr><td>Minimum Devol. Temp.</td><td>800.0</td></tr><tr><td>Ta [K]</td><td>2e+03</td></tr></table>"
       ],
       "metadata": {},
       "output_type": "pyout",
       "prompt_number": 151,
       "text": [
        "{'A': {'label': 'A [-]', 'val': 1684.2105263157894},\n",
        " 'Ta': {'label': 'Ta [K]', 'val': 1999.9999999999995},\n",
        " 'Tmin': {'label': 'Minimum Devol. Temp.', 'val': 800.0}}"
       ]
      }
     ],
     "prompt_number": 151
    },
    {
     "cell_type": "markdown",
     "metadata": {},
     "source": [
      "The figure below shows fitted the pyrolysis yield (blue) in comparison to the CPD yield (green) "
     ]
    },
    {
     "cell_type": "code",
     "collapsed": false,
     "input": [
      "plt.figure()#figsize=(15,8))\n",
      "#plt.plot(cpd['run0'][1]['time'], yieldConstRate, label='CR')\n",
      "plt.plot(cpd['run0']['time'], yieldArrRate, label='ARR')\n",
      "plt.plot(cpd['run0']['time'], cpd['run0']['ftot'], label='CPD')\n",
      "plt.legend(loc='lower right')\n",
      "plt.xlabel('Time [s]')\n",
      "plt.ylabel('Yield [-]')"
     ],
     "language": "python",
     "metadata": {},
     "outputs": [
      {
       "metadata": {},
       "output_type": "pyout",
       "prompt_number": 152,
       "text": [
        "<matplotlib.text.Text at 0x7f6c604df590>"
       ]
      },
      {
       "metadata": {},
       "output_type": "display_data",
       "png": "[encoded data removed]",
       "text": [
        "<matplotlib.figure.Figure at 0x7f6c55b8c890>"
       ]
      }
     ],
     "prompt_number": 152
    },
    {
     "cell_type": "markdown",
     "metadata": {},
     "source": [
      "# 8. Distribution of Enthalpies\n",
      "\n",
      "After fitting the pyrolysis yield to CO, CO2, H2O, CH4 and N2 energy conservation has to be ensured. From the known $HHV_{as-received}$ the $HHV_{daf}$ can be computed by subtracting the inert, non contributing contents *ASH* and *Moisture* of the coal. (Is that correct since drying has needs some energy too)\n",
      "\n",
      "\\begin{align}\n",
      "HHV_{daf} = HHV_{as-received}/(f_{FC}+f_{VM})\n",
      "\\label{HHVDAF}\n",
      "\\end{align}\n",
      "\n",
      "From Eqn. \\ref{HHVDAF} the lower heating value $LHV_{daf}$ can be computed by subtracting the latent heat of the water vapour.\n",
      "\n",
      "\\begin{align}\n",
      "LHV_{daf} = HHV_{daf} - h_{latent,H2O}\\frac{MW_O+2MW_H}{2MW_H}f_{UA,H}\n",
      "\\end{align}\n",
      "\n",
      "The $LHV_{daf}$ can be described by the enthalpy balance of the reactants, containing *Char* and pyrolysis yield from section 5, there products are assumed to be only $CO_2$ and $H_2O$\n",
      "\n",
      "\\begin{align}\n",
      "LHV_{daf} = \\sum h_{reactants, daf} - \\sum h_{products, daf} + \\Delta h_{devol}\n",
      "\\label{LHVDAFI}\n",
      "\\end{align}\n",
      "\n",
      "additionally $LHV_{daf}$ could be written as \n",
      "\n",
      "\\begin{align}\n",
      " LHV_{daf} = f_{char,raw} HV_{char} + f_{yield,raw} LHV_{yield} \n",
      " \\label{LHVDAFII}\n",
      "\\end{align}\n",
      "\n",
      ",here *raw* refers to the combination of char and volatile matter after pyrolysis. Both Eqn. \\ref{LHVDAFI} and \\ref{LHVDAFII} are difficult to solve correctly. The problem arises from the fact that the neither the heating value $HV_{char}$ of char nor enthalpy of formation of char are known. In the following Eqn. \\ref{LHVDAFII} is taken and the $HV_{char}$ is aproximated to be $32.6 MJ/kg$ based [Jessup1938](http://nvlpubs.nist.gov/nistpubs/jres/21/jresv21n4p475_A1b.pdf). Hence we can reformulate the enthalpy balance  Eqn. \\ref{LHVDAFI} based solely on the yield.\n",
      " \n",
      "\\begin{align}\n",
      " LHV_{yield} = \\sum h_{reactants, yield} - \\sum h_{products, yield} + \\Delta h_{devol, yield}\n",
      "  \\label{LHVYIELD}\n",
      "\\end{align}\n",
      "\n",
      "Solving Eqn. \\ref{LHVYIELD} for the enthalpy of devolatilisation $\\Delta h_{devol, yield}$ gives the following value in $[kJ/kg_{yield}]$"
     ]
    },
    {
     "cell_type": "code",
     "collapsed": false,
     "input": [
      "from pkp.src.CoalThermoPhysics import enthalpy_balance, enthalpy_balance_mol\n",
      "\n",
      "def compute_enthalpy_of_formation(pyrol_yield, fitted_yield):\n",
      "    prod = pyrol_yield.enthalpy_balance_products\n",
      "    react = enthalpy_balance(fitted_yield)\n",
      "    LHV_daf = pyrol_yield.pre.coal.lhv_daf # POS -> higher temp\n",
      "    LHV_yield =  (LHV_daf - 392.0/12.0 * pyrol_yield.pre.pa_raw['Fixed Carbon']/100*1000)/(pyrol_yield.pre.pa_raw['Volatile Matter']/100.0) \n",
      "    enth_of_devol = LHV_yield  - react + prod\n",
      "    dT = DictTable({\n",
      "        'HHV (as received) [kJ/kg_coal]': float(pyrol_yield.pre.coal.hhv),\n",
      "        'HHV (daf) [kJ/kg_coal_daf]': pyrol_yield.pre.coal.hhv_daf,\n",
      "        'LHV (daf) [kJ/kg_coal_daf]': pyrol_yield.pre.coal.lhv_daf,\n",
      "        'LHV (yield) [kJ/kg_yield]': LHV_yield,\n",
      "        'h_devol [kJ/kg_yield]': enth_of_devol\n",
      "    })\n",
      "    return dT, {'prod':prod, 'react': react,  'enth_of_devol': enth_of_devol, 'LHV_yield': LHV_yield}"
     ],
     "language": "python",
     "metadata": {},
     "outputs": [
      {
       "output_type": "stream",
       "stream": "stdout",
       "text": [
        "\n"
       ]
      }
     ],
     "prompt_number": 170
    },
    {
     "cell_type": "markdown",
     "metadata": {},
     "source": [
      "The following table lists the resulting calculated heating values. "
     ]
    },
    {
     "cell_type": "code",
     "collapsed": false,
     "input": [
      "dT, vals = compute_enthalpy_of_formation(pyrol_yield, fitted_yield)\n",
      "dT"
     ],
     "language": "python",
     "metadata": {},
     "outputs": [
      {
       "html": [
        "<table ><tr><td>HHV (as received) [kJ/kg_coal]</td><td>2.027e+04</td></tr><tr><td>LHV (daf) [kJ/kg_coal_daf]</td><td>1.396e+04</td></tr><tr><td>HHV (daf) [kJ/kg_coal_daf]</td><td>2.407e+04</td></tr><tr><td>h_devol [kJ/kg_yield]</td><td>4.412e+03</td></tr><tr><td>LHV (yield) [kJ/kg_yield]</td><td>1.78e+03</td></tr></table>"
       ],
       "metadata": {},
       "output_type": "pyout",
       "prompt_number": 171,
       "text": [
        "{'HHV (as received) [kJ/kg_coal]': 20270.0,\n",
        " 'HHV (daf) [kJ/kg_coal_daf]': 24073.63420427553,\n",
        " 'LHV (daf) [kJ/kg_coal_daf]': 13961.64929157712,\n",
        " 'LHV (yield) [kJ/kg_yield]': 1779.9140657922519,\n",
        " 'h_devol [kJ/kg_yield]': 4411.8221925596399}"
       ]
      }
     ],
     "prompt_number": 171
    },
    {
     "cell_type": "code",
     "collapsed": false,
     "input": [
      "dT2,_ = compute_enthalpy_of_formation(pyrol_yield2, fitted_yield2)\n",
      "dT2"
     ],
     "language": "python",
     "metadata": {},
     "outputs": [
      {
       "html": [
        "<table ><tr><td>HHV (as received) [kJ/kg_coal]</td><td>2.027e+04</td></tr><tr><td>LHV (daf) [kJ/kg_coal_daf]</td><td>1.396e+04</td></tr><tr><td>HHV (daf) [kJ/kg_coal_daf]</td><td>2.407e+04</td></tr><tr><td>h_devol [kJ/kg_yield]</td><td>2.951e+03</td></tr><tr><td>LHV (yield) [kJ/kg_yield]</td><td>1.78e+03</td></tr></table>"
       ],
       "metadata": {},
       "output_type": "pyout",
       "prompt_number": 172,
       "text": [
        "{'HHV (as received) [kJ/kg_coal]': 20270.0,\n",
        " 'HHV (daf) [kJ/kg_coal_daf]': 24073.63420427553,\n",
        " 'LHV (daf) [kJ/kg_coal_daf]': 13961.64929157712,\n",
        " 'LHV (yield) [kJ/kg_yield]': 1779.9140657922519,\n",
        " 'h_devol [kJ/kg_yield]': 2950.7017064408792}"
       ]
      }
     ],
     "prompt_number": 172
    },
    {
     "cell_type": "code",
     "collapsed": false,
     "input": [
      "dT3,_ = compute_enthalpy_of_formation(pyrol_yield3, fitted_yield3)\n",
      "dT3"
     ],
     "language": "python",
     "metadata": {},
     "outputs": [
      {
       "html": [
        "<table ><tr><td>HHV (as received) [kJ/kg_coal]</td><td>2.027e+04</td></tr><tr><td>LHV (daf) [kJ/kg_coal_daf]</td><td>1.396e+04</td></tr><tr><td>HHV (daf) [kJ/kg_coal_daf]</td><td>2.407e+04</td></tr><tr><td>h_devol [kJ/kg_yield]</td><td>4.602e+03</td></tr><tr><td>LHV (yield) [kJ/kg_yield]</td><td>1.78e+03</td></tr></table>"
       ],
       "metadata": {},
       "output_type": "pyout",
       "prompt_number": 173,
       "text": [
        "{'HHV (as received) [kJ/kg_coal]': 20270.0,\n",
        " 'HHV (daf) [kJ/kg_coal_daf]': 24073.63420427553,\n",
        " 'LHV (daf) [kJ/kg_coal_daf]': 13961.64929157712,\n",
        " 'LHV (yield) [kJ/kg_yield]': 1779.9140657922519,\n",
        " 'h_devol [kJ/kg_yield]': 4602.3147034269814}"
       ]
      }
     ],
     "prompt_number": 173
    },
    {
     "cell_type": "code",
     "collapsed": false,
     "input": [
      "print \"sum of enthalpies of formation, products\", vals['prod'], \"[kJ/kg_yield]\"\n",
      "print \"sum of enthalpies of formation, reactants \", vals['react'], \"[kJ/kg_yield]\"\n",
      "print \"enthalpy of combustion (-LHV)\", -vals['LHV_yield'], \"[kJ/kg_yield]\"\n",
      "print \"enthalpy of devolatilisation \", vals['enth_of_devol'], \"[kJ/kg_yield]\"\n",
      "print \"enth_of_devol - (LHV_yield  - react + prod)\" , vals['enth_of_devol'] - (vals['LHV_yield']  - vals['react'] + vals['prod']), \"[kJ/kg_yield]\""
     ],
     "language": "python",
     "metadata": {},
     "outputs": [
      {
       "output_type": "stream",
       "stream": "stdout",
       "text": [
        "sum of enthalpies of formation, products -4940.65446032 [kJ/kg_yield]\n",
        "sum of enthalpies of formation, reactants  -7572.56258708 [kJ/kg_yield]\n",
        "enthalpy of combustion (-LHV) -1779.91406579 [kJ/kg_yield]\n",
        "enthalpy of devolatilisation  4411.82219256 [kJ/kg_yield]\n",
        "enth_of_devol - (LHV_yield  - react + prod) 0.0 [kJ/kg_yield]\n"
       ]
      }
     ],
     "prompt_number": 174
    },
    {
     "cell_type": "markdown",
     "metadata": {},
     "source": [
      "# 9. Sensitivity Studies\n",
      "#### Influence of the Q-factor\n",
      "\n",
      "We assume that oxygen and hydrogen is fully consumed during pyrolysis and the remaining char consists only of carbon and ash. The ratio between the carbon in the volatile yield and the left over coal depends on the temperature profile during pyrolysis. Considering the CPD results we can estimate the ratio between released volatile yield $m_{VM}$ and the estimated volatile yield from the proximate analysis $m_{VM,PA}$\n",
      "\n",
      "\\begin{align}\n",
      "q = \\frac{m_{VM}}{m_{VM,PA}}\n",
      "\\label{qFactor}\n",
      "\\end{align}\n",
      "\n",
      "where $q$ is usually refered to as *q-factor*. Since the total mass of oxygen and hydrogen in the volatile yield is fixed the q-factor determines the amount of carbon in the volatile yield. The total mass of carbon $m_C$, which is constant is the sum of the fixed carbon remaining as char $m_{FC}$ and the carbon released with the volatiles $m_{VC}$\n",
      "\n",
      "\\begin{align}\n",
      "m_C = m_{FC} + m_{VC}\n",
      "\\label{CarbonCompos}\n",
      "\\end{align}\n",
      "\n",
      "The volatile yield $m_{VM}$ from Eq. \\ref{qFactor} can be replaced by the sum of components $m_{VM} = m_{VC} + m_O + m_H$ and $m_{VM,PA} = m_{VC,PA} + m_{O,PA} + m_{H,PA}$, where the subscripts *PA* denotes values based on the proximate analysis, resulting in\n",
      "\n",
      "\\begin{align}\n",
      "m_{VC} + m_O + m_H = q\\left(m_{VC,PA} + m_{O,PA} + m_{H,PA}\\right)\n",
      "\\label{VolMatterVsProx}\n",
      "\\end{align}\n",
      "\n",
      "Equation \\ref{VolMatterVsProx} can be simplified since the mass of oxygen and hydrogen in the volatile matter is constant, hence $m_O = m_{O,PA}$ and $m_H = m_{H,PA}$ gives\n",
      "\n",
      "\\begin{align}\n",
      "m_{VC} = qm_{VC,PA} + (q-1)(m_{O,PA} + m_{H,PA})\n",
      "\\label{VolMatterVsProxSimplified}\n",
      "\\end{align}\n",
      "\n",
      "Equation \\ref{VolMatterVsProxSimplified} can be further simplified by replacing $m_{O,PA} + m_{H,PA}$ by $m_{VM,PA}-m_{VC,PA}$  and $m_{VC,PA}$ as $m_{C} - m_{FC,PA}$ giving\n",
      "\n",
      "\\begin{align}\n",
      "m_{VC}  = m_{C} - m_{FC,PA} + m_{VM,PA}(q-1)\n",
      "\\label{VolatileCarbonQ}\n",
      "\\end{align}\n",
      "\n",
      "Equation \\ref{VolatileCarbonQ} determines the carbon mass released through volatiles as a function of the q-factor."
     ]
    },
    {
     "cell_type": "markdown",
     "metadata": {},
     "source": [
      "### Results of q-factor depend mass distribution\n",
      "\n",
      "For the current parameter set the CPD coal pre-processor predicts a q-factor of"
     ]
    },
    {
     "cell_type": "code",
     "collapsed": false,
     "input": [
      "print cpd['run0'].qFactor"
     ],
     "language": "python",
     "metadata": {},
     "outputs": [
      {
       "output_type": "stream",
       "stream": "stdout",
       "text": [
        "1.26216633663\n"
       ]
      }
     ],
     "prompt_number": 175
    },
    {
     "cell_type": "markdown",
     "metadata": {},
     "source": [
      "Which gives the following elementary composition by mass for the volatile yield"
     ]
    },
    {
     "cell_type": "code",
     "collapsed": false,
     "input": [
      "from pkp.src.CoalThermoPhysics import PostulateSubstance, Coal\n",
      "from pkp.src.PreProc import ManualQfactor\n",
      "\n",
      "post_subs_cpd = PostulateSubstance(ManualQfactor(Coal(input_dict['Coal']), qFactor=cpd['run0'].qFactor))"
     ],
     "language": "python",
     "metadata": {},
     "outputs": [],
     "prompt_number": 176
    },
    {
     "cell_type": "code",
     "collapsed": false,
     "input": [
      "DictTable(post_subs_cpd.VolatileCompositionMass)"
     ],
     "language": "python",
     "metadata": {},
     "outputs": [
      {
       "html": [
        "<table ><tr><td>Carbon</td><td>34.02</td></tr><tr><td>Hydrogen</td><td>10.22</td></tr><tr><td>Oxygen</td><td>54.09</td></tr><tr><td>Nitrogen</td><td>1.673</td></tr></table>"
       ],
       "metadata": {},
       "output_type": "pyout",
       "prompt_number": 177,
       "text": [
        "{'Carbon': 34.015436940902411,\n",
        " 'Hydrogen': 10.222960473944696,\n",
        " 'Nitrogen': 1.6728480775545866,\n",
        " 'Oxygen': 54.088754507598303}"
       ]
      }
     ],
     "prompt_number": 177
    },
    {
     "cell_type": "markdown",
     "metadata": {},
     "source": [
      "The composition of volatile matter based on the q-Factor from the CPD results is shown in comparison to the composition based on a q-Factor of q=1.0."
     ]
    },
    {
     "cell_type": "code",
     "collapsed": false,
     "input": [
      "post_subs_pa = PostulateSubstance(ManualQfactor(Coal(input_dict['Coal']), qFactor=1.0))\n",
      "f, ax = subplots()\n",
      "plt_bar(f, ax, post_subs_cpd.VolatileCompositionMass, \"CPD\", 'x' )\n",
      "plt_bar(f, ax, post_subs_pa.VolatileCompositionMass, \"q=1.0\", '/', 0.5)"
     ],
     "language": "python",
     "metadata": {},
     "outputs": [
      {
       "metadata": {},
       "output_type": "display_data",
       "png": "[encoded data removed]",
       "text": [
        "<matplotlib.figure.Figure at 0x7f6c5f597350>"
       ]
      }
     ],
     "prompt_number": 178
    },
    {
     "cell_type": "markdown",
     "metadata": {},
     "source": [
      "The following figure demonstrates the dependency of the final (when all volatiles have been released) volatile yield on the q-factor. It can be seen that increasing the q-factor leads to an increase in the Carbon content of the volatile yield, since the increase in the volatile yield can only originate from an increase in carbon content. Hence the mass fractions of hydrogen and oxygen decrease since the relative amount decreases."
     ]
    },
    {
     "cell_type": "code",
     "collapsed": false,
     "input": [
      "qsteps = 100\n",
      "qMax = 2.0\n",
      "deltaQ = (qMax-1.0)/float(qsteps)\n",
      "\n",
      "post_subs_q = [PostulateSubstance(ManualQfactor(Coal(input_dict['Coal']), qFactor=1+q*deltaQ)).VolatileCompositionMass \n",
      "               for q in range(qsteps)]\n",
      "\n",
      "for spec in ['Carbon', 'Hydrogen', 'Oxygen']:\n",
      "    q = [1+q*deltaQ for q in range(qsteps)]\n",
      "    elm = [_[spec] for _ in post_subs_q]\n",
      "    plt.plot(q, elm, label=spec.lower())\n",
      "    plt.xlabel('q-factor [-]')\n",
      "    plt.ylabel('Mass Fraction [%]')\n",
      "    plt.ylim([0,80])\n",
      "    plt.legend()"
     ],
     "language": "python",
     "metadata": {},
     "outputs": [
      {
       "metadata": {},
       "output_type": "display_data",
       "png": "[encoded data removed]",
       "text": [
        "<matplotlib.figure.Figure at 0x7f6c603fcdd0>"
       ]
      }
     ],
     "prompt_number": 179
    },
    {
     "cell_type": "markdown",
     "metadata": {},
     "source": [
      "###  Constant Temperature Devolatilisation\n",
      "\n",
      "To investigate the effects of the temperature at which the devolatilsation happens a number of CPD runs have been conducted for which the coal particle temperature was held at constant level during pyrolysis.\n",
      "\n",
      "<!-- The figure below shows that up to a temperature of approx. 1200K the q-factor stays below one. From 1200K to approx. 2000K the q-factor rises up to 1.45, where it remains constant for even higher temperatures. -->"
     ]
    },
    {
     "cell_type": "code",
     "collapsed": false,
     "input": [
      "res = []\n",
      "q = []\n",
      "#props['epsilon'] = 0\n",
      "tarratio = []\n",
      "gasratio = []\n",
      "innertratio = []\n",
      "Ts = [_*100.0 for _ in range(10,30)] \n",
      "for T in Ts:\n",
      "    Times, Temps = computeParticleTemperature(props, Shaddix2009.time, Shaddix2009.T_high, t_end=0.05)\n",
      "    input_dict['Coal']['OperatingConditions'] = {'run0': [(0.0,T),(0.5, T)], 'pressure': 1.0, 'runs': 1}\n",
      "\n",
      "    cpd = pkp.generate(json_string=input_dict)\n",
      "    res.append(cpd)\n",
      "    q.append(cpd['run0'].qFactor)\n",
      "    tarratio.append(cpd['run0']['ftar'][-1]/cpd['run0']['ftot'][-1])\n",
      "    gasratio.append(cpd['run0']['fgas'][-1]/cpd['run0']['ftot'][-1])\n",
      "    innertratio.append((cpd['run0']['fh20'][-1] + cpd['run0']['fco2'][-1])/cpd['run0']['fgas'][-1])"
     ],
     "language": "python",
     "metadata": {},
     "outputs": [],
     "prompt_number": 180
    },
    {
     "cell_type": "code",
     "collapsed": false,
     "input": [
      "f, ax = plt.subplots(1,2)\n",
      "f.set_figwidth(15)\n",
      "\n",
      "ax[0].plot(Ts, q)\n",
      "ax[0].get_yaxis().get_label().set_text('q-factor [-]')\n",
      "ax[0].get_xaxis().get_label().set_text('Temperatur [K]')\n",
      "\n",
      "tarr, = ax[1].plot(Ts, tarratio)\n",
      "gasr, = ax[1].plot(Ts, gasratio)\n",
      "plt.legend([tarr, gasr], ['tar/tot','gas/tot'], loc='center right')\n",
      "ax[1].get_yaxis().get_label().set_text('Yield Ratios [-]')\n",
      "ax[1].get_xaxis().get_label().set_text('Particle Response Time [s]')"
     ],
     "language": "python",
     "metadata": {},
     "outputs": [
      {
       "metadata": {},
       "output_type": "display_data",
       "png": "[encoded data removed]",
       "text": [
        "<matplotlib.figure.Figure at 0x7f6c5619ae10>"
       ]
      }
     ],
     "prompt_number": 181
    },
    {
     "cell_type": "markdown",
     "metadata": {},
     "source": [
      "###  Dependency of q-Factor and Yield Composition on the Particle Response Times \n",
      "\n",
      "\n",
      "Neglecting any radiation influence we can reformulate Eqn. \\ref{ParticleTempEqn} and introduce the particle thermal response time as $\\tau_p = \\frac{\\rho_p d^2 c_p}{12\\lambda_g}$ with $Nu = 2$\n",
      "\n",
      "\n",
      "\\begin{align}\n",
      "\\frac{dT_p}{dt}=\\frac{-6Nu\\lambda_g}{c_p\\rho_pd^2_p} (T_p-T_g) = \\frac{1}{\\tau_p} (T_p-T_g)\n",
      "\\label{ParticleTempEqnII}\n",
      "\\end{align}\n",
      "\n",
      "A standard particle with the mentioned properties has a particle response time of"
     ]
    },
    {
     "cell_type": "code",
     "collapsed": false,
     "input": [
      "print \"tau_p\", particle_response_time(props)"
     ],
     "language": "python",
     "metadata": {},
     "outputs": [
      {
       "output_type": "stream",
       "stream": "stdout",
       "text": [
        "tau_p 0.0176236822068\n"
       ]
      }
     ],
     "prompt_number": 182
    },
    {
     "cell_type": "markdown",
     "metadata": {},
     "source": [
      "Assuming an uncertainty range for $\\rho_p, d_p, c_p$ and $\\lambda_g$ of 0.5, hence a value can be 50% above and below the taken mean value, results in the following possible range of $\\tau_p$ "
     ]
    },
    {
     "cell_type": "code",
     "collapsed": false,
     "input": [
      "min_ = 0.5 ** 5 * particle_response_time(props)\n",
      "max_ = 1.5 ** 5 * particle_response_time(props)\n",
      "print \"min \", min_\n",
      "print \"max \", max_\n",
      "print \"max/min \", max_/min_"
     ],
     "language": "python",
     "metadata": {},
     "outputs": [
      {
       "output_type": "stream",
       "stream": "stdout",
       "text": [
        "min  0.000550740068962\n",
        "max  0.133829836758\n",
        "max/min  243.0\n"
       ]
      }
     ],
     "prompt_number": 183
    },
    {
     "cell_type": "markdown",
     "metadata": {},
     "source": [
      "Again a series of CPD computations is conducted for spanning the range of possible particle response times. The figure below displays the change in the q-Factor over the particle response times (left) and the ratio of *TAR*, *GAS* to the total yield. It can be seen that as heating rates decrease with increasing particle response times the q-Factor decreases. However the sensitivity of the q-Factor upon the heating rate is comparativly small. Additionally with larger particle response times the yield composition shifts slightly towards light gases, e.g. larger particles tend to emit more light gases for a constant maximum temperature. "
     ]
    },
    {
     "cell_type": "code",
     "collapsed": false,
     "input": [
      "ds = [_*1e-5 for _ in range(3,20)] "
     ],
     "language": "python",
     "metadata": {},
     "outputs": [],
     "prompt_number": 184
    },
    {
     "cell_type": "code",
     "collapsed": true,
     "input": [
      "res = []\n",
      "q = []\n",
      "tarratio = []\n",
      "gasratio = []\n",
      "innertratio = []\n",
      "tau = []\n",
      "for d in ds:\n",
      "    props_new = props.set('d', d)\n",
      "    Times, Temps = computeParticleTemperature(props_new, Shaddix2009.time, Shaddix2009.T_high, T_start=300, dt=1e-4)\n",
      "    input_dict['OperatingConditions'] = {'run0': zip(Times, Temps)[0:-80:38], 'pressure': 1.0, 'runs': 1}\n",
      "    input_dict['Coal']['OperatingConditions'] = {'run0': zip(Times, Temps)[0:-80:38], 'pressure': 1.0, 'runs': 1}\n",
      "    cpd = pkp.generate(json_string=input_dict)\n",
      "    res.append(cpd)\n",
      "    tau.append(particle_response_time(props_new))\n",
      "    q.append(cpd['run0'].qFactor)\n",
      "    tarratio.append(cpd['run0']['ftar'][-1]/cpd['run0']['ftot'][-1])\n",
      "    gasratio.append(cpd['run0']['fgas'][-1]/cpd['run0']['ftot'][-1])\n",
      "    innertratio.append((cpd['run0']['fh20'][-1] + cpd['run0']['fco2'][-1])/cpd['run0']['fgas'][-1])"
     ],
     "language": "python",
     "metadata": {},
     "outputs": []
    },
    {
     "cell_type": "code",
     "collapsed": false,
     "input": [
      "f, ax = plt.subplots(1,2)\n",
      "f.set_figwidth(15)\n",
      "ax[0].plot(tau, q)\n",
      "ax[0].get_yaxis().get_label().set_text('q-factor [-]')\n",
      "ax[0].get_xaxis().get_label().set_text('Particle Response Time [s]')\n",
      "tarr, = ax[1].plot(tau, tarratio)\n",
      "gasr, = ax[1].plot(tau, gasratio)\n",
      "plt.legend([tarr, gasr], ['tar/tot','gas/tot'], loc='center right')\n",
      "ax[1].get_yaxis().get_label().set_text('Yield Ratios [-]')\n",
      "ax[1].get_xaxis().get_label().set_text('Particle Response Time [s]')"
     ],
     "language": "python",
     "metadata": {},
     "outputs": []
    },
    {
     "cell_type": "markdown",
     "metadata": {},
     "source": [
      "# 10. References\n",
      "\n",
      " [Molina2007](http://www.sciencedirect.com/science/article/pii/S1540748906003658)\n",
      " \n",
      " [Shaddix2009](http://www.sciencedirect.com/science/article/pii/S1540748908002770)\n",
      " \n",
      " [Liu2011](http://www.sciencedirect.com/science/article/pii/S1750583611000880)\n",
      " \n",
      " [Vascellari2013](http://www.sciencedirect.com/science/article/pii/S154074891200260X)\n",
      " \n",
      " [Goshayeshi2014](http://www.sciencedirect.com/science/article/pii/S0010218014000157)\n",
      " "
     ]
    },
    {
     "cell_type": "markdown",
     "metadata": {},
     "source": [
      "[CPD INPUT](http://www.et.byu.edu/~tom/cpd/correlation.html)"
     ]
    },
    {
     "cell_type": "code",
     "collapsed": false,
     "input": [],
     "language": "python",
     "metadata": {},
     "outputs": []
    }
   ],
   "metadata": {}
  }
 ]
}