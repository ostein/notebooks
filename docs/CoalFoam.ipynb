{
 "cells": [
  {
   "cell_type": "code",
   "execution_count": 1,
   "metadata": {
    "collapsed": false
   },
   "outputs": [
    {
     "name": "stdout",
     "output_type": "stream",
     "text": [
      "Revision: 73518b1 HEAD@{0}: commit: added weber notebook\n",
      "cloning  https://github.com/greole/IPythonTricks.git[done] \n"
     ]
    }
   ],
   "source": [
    "import preamble"
   ]
  },
  {
   "cell_type": "markdown",
   "metadata": {},
   "source": [
    "# CoalFoam Documentation"
   ]
  },
  {
   "cell_type": "markdown",
   "metadata": {},
   "source": [
    "## Coal Particle Hierachy\n",
    "\n",
    "OpenFoams coal particles are actually ReactingMultiphaseParcel the type `coalParcel` is defined by the following typedef.\n",
    "\n",
    "\n",
    "``` c\n",
    "// src/lagrangian/coalCombustion/coalParcel/coalParcel.H\n",
    "typedef ReactingMultiphaseParcel\n",
    "<\n",
    "    ReactingParcel\n",
    "    <\n",
    "        ThermoParcel\n",
    "        <\n",
    "           KinematicParcel\n",
    "           <\n",
    "                particle\n",
    "           >\n",
    "        >\n",
    "    >\n",
    "> coalParcel;\n",
    "```\n",
    "\n",
    "Every parcel/particle class inherits from a parameterised parent class thus we can build these long inheritance chains. In case of the  ReactingMultiphaseParcel class this can be seen in the header file.\n",
    "\n",
    "\n",
    "``` c\n",
    "template<class ParcelType>\n",
    "class ReactingMultiphaseParcel\n",
    ":\n",
    "   public ParcelType\n",
    "```"
   ]
  },
  {
   "cell_type": "markdown",
   "metadata": {},
   "source": [
    "## Particle Enthalpy Equation"
   ]
  },
  {
   "cell_type": "markdown",
   "metadata": {},
   "source": [
    "The ReactingMultiphaseParcel implements a procedure named `calc` in `src/lagrangian/intermediate/parcels/Templates/ReactingMultiphaseParcel.C` calling multiple calc functions such as:\n",
    "\n",
    "* calcSurfaceValues\n",
    "* calcPhaseChange\n",
    "* calcDevolatilisation\n",
    "* calcSurfaceReactions\n",
    "* calcHeatTransfer\n",
    "* calcVelocity"
   ]
  },
  {
   "cell_type": "markdown",
   "metadata": {},
   "source": [
    "We will have a look at the `calcHeatTransfer` function implemented in `src/lagrangian/intermediate/parcels/Templates/ThermoParcel/ThermoParcel.C`. Here the the transfered enthalpy between particle and gasphase `dhsTrans` and the updated particle temperature is computed. \n",
    "\n",
    "When neglecting any source terms the change in the particle temperature can be calculated by integrating over\n",
    "\n",
    "\\begin{align}\n",
    "    \\frac{dT_p}{dt} = \\frac{Nu}{2}\\frac{1}{\\tau_T}(T_c-T_p)\n",
    "    \\label{PartTempEqn}\n",
    "\\end{align}\n",
    "\n",
    "with the thermal response time being $\\tau_T = \\frac{\\rho_d c_d D^2}{12 k_c}$. Equation \\ref{PartTempEqn} can be rewritten as \n",
    "\n",
    "\\begin{align}\n",
    "    \\frac{dT_p}{dt} = \\beta(T_p - \\alpha)\n",
    "    \\label{PartTempEqnII}\n",
    "\\end{align}\n",
    "\n",
    ", where $\\beta=-\\frac{Nu}{2}\\frac{1}{\\tau_T}$ and $\\alpha=-T_c$. The integration of the particle temperature equation in the form of Eq. \\ref{PartTempEqnII} is computed by the selected integration scheme. The corresponding source files can be found under `/home/itvgo/OpenFOAM/OpenFOAM-2.0.x.coal/src/lagrangian/intermediate/IntegrationScheme/`. \n",
    "\n",
    "In order to solve the equation OpenFOAM computes the heat transfer coefficient `htc` first. Where `htc` is defined as \n",
    "```\n",
    "htc = Nu*kappa/dp;\n",
    "```\n",
    "in `submodels/Thermodynamic/HeatTransferModel/HeatTransferModel/HeatTransferModel.C` in the function `htc`, furthermore `htc` calls the selected submodel to compute the Nusselt number i.e. (`intermediate/submodels/Thermodynamic/HeatTransferModel/RanzMarshall/RanzMarshall.C` for the Ranz&Marshall model.\n",
    "\n",
    "Note that OpenFOAM's Ranz&Marshall model computes $Nu$ as `return 2.0 + 0.6*sqrt(Re)*cbrt(Pr);` instead of\n",
    "\n",
    "\\begin{align}\n",
    "    Nu = 2 + 0.552 Re^{1/2}Pr^{1/3}\n",
    "\\end{align}\n",
    "\n",
    "Furthermore the coefficients $\\alpha$ and $\\beta$ are implemented as\n",
    "\n",
    "```\n",
    "scalar ap = Tc_ + Sh/As/htc;                                                                 \n",
    "scalar bp = 6.0*(Sh/As + htc*(Tc_ - T_));\n",
    "```\n",
    "\n",
    "giving \n",
    "\n",
    "\\begin{align}\n",
    "\\alpha = Tc \\\\                                                      \n",
    "\\beta = 6.0\\frac{htc}{\\rho d_p C_p};\n",
    "\\end{align}\n",
    "\n",
    "in case of absent sources. "
   ]
  },
  {
   "cell_type": "markdown",
   "metadata": {},
   "source": [
    "## Submodels\n",
    "\n",
    "the particle submodels can found under `src/lagrangian/intermediate/submodels`"
   ]
  },
  {
   "cell_type": "markdown",
   "metadata": {},
   "source": [
    "# HOWTO'S\n",
    "\n",
    "## Gas-phase Sampling\n",
    "\n",
    "Time averaging and sampling of gas-phase quantities is controlled via the `controlDict` and `sampleDict` respectively. \n",
    "\n",
    "The following example of the `fieldAverage` function in the `controlDict` illustrates how to compute statistics (mean, variances) of the velocity field `U`. Statistics for additional fields can be computet by adding further fields to the fields list.\n",
    "\n",
    "```\n",
    "fieldAverage1 {\n",
    "           type            fieldAverage;\n",
    "           functionObjectLibs ( \"libfieldFunctionObjects.so\" );\n",
    "           enabled         true;\n",
    "           resetOnOutput   false; // reset statistics every time when written out\n",
    "           cleanRestart    true;  // reset statistics on restart\n",
    "           outputControl   outputTime;\n",
    "\n",
    "           fields (\n",
    "                  U { \n",
    "                      mean        on; \n",
    "                      prime2Mean  on; // variances\n",
    "                      base        time;\n",
    "                  }\n",
    "            )\n",
    "}\n",
    "\n",
    "```\n",
    "\n",
    "When the keywords `mean` and `prime2Mean` are set to `on`,  `UMean` and `UPrime2Mean` are written to timestep folders containing the time average and variance tensor of the velocity field. \n",
    "In order to extract data at specific points/lines in space the data needs to sampled. The sampling process is controlled via the `sampleDict` (http://cfd.direct/openfoam/user-guide/sample/). The sampling process is started with the `sample` command and the resulting data is written to `sets/<timestep>` folder. Note that decomposed data can not be sampled before the data is reconstructed."
   ]
  },
  {
   "cell_type": "markdown",
   "metadata": {},
   "source": [
    "## Particle Sampling\n",
    "\n",
    "Sampling of coal particles is controled via the `system/particleSampleDict` where probes are specified in the following way\n",
    "\n",
    "\n",
    "```\n",
    "axialProbe00 {\n",
    "        type \"pointProbe\";\n",
    "        master \"axialProbes\";\n",
    "        sampleFreq 10;\n",
    "        probe_size 0.0005;\n",
    "        position (0.0 0.0 -10);\n",
    "        normal (0.0 0.0 1.0);\n",
    "}\n",
    "```\n",
    "\n",
    "or for a radial probe\n",
    "\n",
    "```\n",
    "radialProbe211 {\n",
    "        type \"radialProbe\";\n",
    "        master \"radPart50mm\";\n",
    "        sampleFreq 10;\n",
    "        probe_size 0.0005;\n",
    "        position (0.0 0.0 0.05);\n",
    "        radius 0.0275;\n",
    "        normal (0.0 0.0 1.0);\n",
    "}\n",
    "\n",
    "```\n",
    "\n",
    "The results are written to `lagrangian/probes/master_name` in serial simulations. For parallel cases the particle probe data is written to the processor folder e.g `processor[0-9]*/lagrangian/probes`, to reconstruct the particle probes data the following [script](https://gist.githubusercontent.com/greole/c692bc2b28e832af1bfd/raw/f6070bf2a880b01a54f6bc17d9f8c4164d79b02e/reconstPartProbes.py) can be used. Simply download it into your simulation folder and execute it with\n",
    "\n",
    "\n",
    "    python reconstPartProbes.py\n",
    "\n",
    "The reconstructed probe data will be availible in your `sets/TIMESTEP/` folder."
   ]
  },
  {
   "cell_type": "markdown",
   "metadata": {},
   "source": []
  },
  {
   "cell_type": "code",
   "execution_count": null,
   "metadata": {
    "collapsed": true
   },
   "outputs": [],
   "source": []
  }
 ],
 "metadata": {
  "kernelspec": {
   "display_name": "Python 3",
   "language": "python",
   "name": "python3"
  },
  "language_info": {
   "codemirror_mode": {
    "name": "ipython",
    "version": 3
   },
   "file_extension": ".py",
   "mimetype": "text/x-python",
   "name": "python",
   "nbconvert_exporter": "python",
   "pygments_lexer": "ipython3",
   "version": "3.4.2"
  }
 },
 "nbformat": 4,
 "nbformat_minor": 0
}
