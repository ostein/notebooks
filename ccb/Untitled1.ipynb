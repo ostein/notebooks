{
 "metadata": {
  "name": "",
  "signature": "sha256:a87994c00923f7e52d4aa0cd2db27cbed028aacdaaf8abfe3de21b9686b1e8b1"
 },
 "nbformat": 3,
 "nbformat_minor": 0,
 "worksheets": [
  {
   "cells": [
    {
     "cell_type": "code",
     "collapsed": false,
     "input": [
      "dsgb"
     ],
     "language": "python",
     "metadata": {},
     "outputs": []
    }
   ],
   "metadata": {}
  }
 ]
}