{
 "metadata": {
  "name": "",
  "signature": "sha256:2d037b3a0ce2497ea6680c9cd42dee5ad3ebcab07417cad26da63ca04c3036d8"
 },
 "nbformat": 3,
 "nbformat_minor": 0,
 "worksheets": []
}